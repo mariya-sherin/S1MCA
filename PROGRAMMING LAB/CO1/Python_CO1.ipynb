{
  "nbformat": 4,
  "nbformat_minor": 0,
  "metadata": {
    "colab": {
      "provenance": []
    },
    "kernelspec": {
      "name": "python3",
      "display_name": "Python 3"
    },
    "language_info": {
      "name": "python"
    }
  },
  "cells": [
    {
      "cell_type": "markdown",
      "source": [
        "**CO1**\n",
        "\n"
      ],
      "metadata": {
        "id": "u1mbWBOkjvPm"
      }
    },
    {
      "cell_type": "code",
      "source": [
        "# 2.Display future leap years from current year to a final year entered by user.\n",
        "\n",
        "current=int(input(\"Enter the current year : \"))\n",
        "final=int(input(\"Enter a year which is greater than current year : \"))\n",
        "print(\"List of leap years :\")\n",
        "for year in range(current,final):\n",
        "  if((year%4==0)and(year%100!=0))or(year%400==0):\n",
        "    print(year)\n",
        "    year=+1\n"
      ],
      "metadata": {
        "colab": {
          "base_uri": "https://localhost:8080/"
        },
        "id": "Uad0QN7TkgCb",
        "outputId": "2b8fec53-5636-4fc2-8659-0605ae20466d"
      },
      "execution_count": null,
      "outputs": [
        {
          "output_type": "stream",
          "name": "stdout",
          "text": [
            "Enter the current year : 2001\n",
            "Enter a year which is greater than current year : 2023\n",
            "List of leap years :\n",
            "2004\n",
            "2008\n",
            "2012\n",
            "2016\n",
            "2020\n"
          ]
        }
      ]
    },
    {
      "cell_type": "code",
      "source": [
        "# 3. List comprehensions:\n",
        "\n",
        "#a)Generate positive list of numbers from a given list of integers\n",
        "\n",
        "a=(0,-4,9,10,5,-5,-8,1,3,20)\n",
        "b=[i for i in a if i>0]\n",
        "print('Positive list of numbers : ',b)"
      ],
      "metadata": {
        "colab": {
          "base_uri": "https://localhost:8080/"
        },
        "id": "oOme4H5VCulh",
        "outputId": "8c0bbfcd-4fbd-4a3e-ff28-48f524bc447c"
      },
      "execution_count": null,
      "outputs": [
        {
          "output_type": "stream",
          "name": "stdout",
          "text": [
            "Positive list of numbers :  [9, 10, 5, 1, 3, 20]\n"
          ]
        }
      ]
    },
    {
      "cell_type": "code",
      "source": [
        "#b)Square of N numbers\n",
        "\n",
        "a=(2,3,4,5,7,9)\n",
        "b=[i**2 for i in a]\n",
        "print('Square of numbers : ',b)"
      ],
      "metadata": {
        "colab": {
          "base_uri": "https://localhost:8080/"
        },
        "id": "FonXSGBTFOBB",
        "outputId": "75fc0a09-6023-46e9-a9be-a9c82ea0e743"
      },
      "execution_count": null,
      "outputs": [
        {
          "output_type": "stream",
          "name": "stdout",
          "text": [
            "Square of numbers :  [4, 9, 16, 25, 49, 81]\n"
          ]
        }
      ]
    },
    {
      "cell_type": "code",
      "source": [
        "#c)Form a list of vowels selected from a given word\n",
        "\n",
        "a=input(\"Enter a word : \")\n",
        "b=[i for i in a if i in 'aeiouAEIOU']\n",
        "print(\"The vowels are :\",b)"
      ],
      "metadata": {
        "colab": {
          "base_uri": "https://localhost:8080/"
        },
        "id": "nF_3xt3XFxLq",
        "outputId": "413fd9ec-c89a-4d82-e976-f39ab2592166"
      },
      "execution_count": null,
      "outputs": [
        {
          "output_type": "stream",
          "name": "stdout",
          "text": [
            "Enter a word : home\n",
            "The vowels are : ['o', 'e']\n"
          ]
        }
      ]
    },
    {
      "cell_type": "code",
      "source": [
        "#d)List ordinal value of each element of a word (Hint: use ord() to get ordinal values)\n",
        "\n",
        "a=input('Enter a character : ')\n",
        "b=[ord(i) for i in a]\n",
        "print(\"Ordinal value :\",b)"
      ],
      "metadata": {
        "colab": {
          "base_uri": "https://localhost:8080/"
        },
        "id": "xNlcWQXEHGtR",
        "outputId": "ecc1884e-f357-4287-acfd-6544750855b0"
      },
      "execution_count": null,
      "outputs": [
        {
          "output_type": "stream",
          "name": "stdout",
          "text": [
            "Enter a character : purple\n",
            "Ordinal value : [112, 117, 114, 112, 108, 101]\n"
          ]
        }
      ]
    },
    {
      "cell_type": "code",
      "source": [
        "# 4. Count the occurrences of each word in a line of text.\n",
        "\n",
        "str=input(\"Enter a sentence : \")\n",
        "a=[]\n",
        "a=str.split();\n",
        "words=[a.count(i) for i in a]\n",
        "print(dict(zip(a,words)))"
      ],
      "metadata": {
        "id": "IEVGwZ5ilKoc",
        "colab": {
          "base_uri": "https://localhost:8080/"
        },
        "outputId": "5dffce3e-7fd1-49f3-a889-08ff1623e5e2"
      },
      "execution_count": null,
      "outputs": [
        {
          "output_type": "stream",
          "name": "stdout",
          "text": [
            "Enter a sentence : life is an experiment. the more experiment you make the more life becomes better\n",
            "{'life': 2, 'is': 1, 'an': 1, 'experiment.': 1, 'the': 2, 'more': 2, 'experiment': 1, 'you': 1, 'make': 1, 'becomes': 1, 'better': 1}\n"
          ]
        }
      ]
    },
    {
      "cell_type": "code",
      "source": [
        "# 5. Prompt the user for a list of integers. For all values greater than 100, store ‘over’ instead.\n",
        "\n",
        "n=int(input(\"Enter the number of elements : \"))\n",
        "list=[]\n",
        "for i in range (n):\n",
        "  a=int(input(\"Enter the integer : \"))\n",
        "  if (a<100):\n",
        "    list.append(a)\n",
        "  else:\n",
        "    list.append(\"over\")\n",
        "    print(list)"
      ],
      "metadata": {
        "colab": {
          "base_uri": "https://localhost:8080/"
        },
        "id": "HMm9MW8YlQCL",
        "outputId": "c74b7eea-eefc-4fdc-c549-4e996eb23e0d"
      },
      "execution_count": null,
      "outputs": [
        {
          "output_type": "stream",
          "name": "stdout",
          "text": [
            "Enter the number of elements : 5\n",
            "Enter the integer : 10\n",
            "Enter the integer : 101\n",
            "[10, 'over']\n",
            "Enter the integer : 20\n",
            "Enter the integer : 35\n",
            "Enter the integer : 299\n",
            "[10, 'over', 20, 35, 'over']\n"
          ]
        }
      ]
    },
    {
      "cell_type": "code",
      "source": [
        "# 6. Store a list of first names. Count the occurrences of ‘a’ within the list\n",
        "\n",
        "names = ['Harry', 'Anagha', 'Alan']\n",
        "\n",
        "for name in names:\n",
        "    count = name.lower().count('a')\n",
        "    print(\"'a' occurs in\", name, count, 'times.')"
      ],
      "metadata": {
        "colab": {
          "base_uri": "https://localhost:8080/"
        },
        "id": "hEn60lAuIA-5",
        "outputId": "491cbcb0-b878-4ec2-95da-49df7d91cc4e"
      },
      "execution_count": null,
      "outputs": [
        {
          "output_type": "stream",
          "name": "stdout",
          "text": [
            "'a' occurs in Harry 1 times.\n",
            "'a' occurs in Anagha 3 times.\n",
            "'a' occurs in Alan 2 times.\n"
          ]
        }
      ]
    },
    {
      "cell_type": "code",
      "source": [
        "# 7. Enter 2 lists of integers. Check :\n",
        "  # (a) Whether list are of same length\n",
        "  # (b) whether list sums to same value\n",
        "  # (c) whether any value occur in both.\n",
        "\n",
        "list1 = []\n",
        "list2 = []\n",
        "\n",
        "n1 = int(input(\"Enter the size of list 1: \"))\n",
        "print(\"Enter list 1:\")\n",
        "for _ in range(n1):\n",
        "    item = int(input())\n",
        "    list1.append(item)\n",
        "\n",
        "n2 = int(input(\"Enter the size of list 2: \"))\n",
        "print(\"Enter list 2:\")\n",
        "for _ in range(n2):\n",
        "    item = int(input())\n",
        "    list2.append(item)\n",
        "\n",
        "print(\"List 1:\", list1)\n",
        "print(\"List 2:\", list2)\n",
        "\n",
        "if n1 == n2:\n",
        "    print(\"Lists are of the same length\")\n",
        "else:\n",
        "    print(\"Lists are of different length\")\n",
        "\n",
        "if sum(list1) == sum(list2):\n",
        "    print(\"Sum of lists are the same\")\n",
        "else:\n",
        "    print(\"Sum of lists are different\")\n",
        "\n",
        "common_elements = [i for i in list1 if i in list2]\n",
        "print(\"Common elements:\", common_elements)"
      ],
      "metadata": {
        "colab": {
          "base_uri": "https://localhost:8080/"
        },
        "id": "6x6xNyt5llbx",
        "outputId": "9a2d75d2-7bf2-4c0c-ef34-c68b7b1e498e"
      },
      "execution_count": null,
      "outputs": [
        {
          "output_type": "stream",
          "name": "stdout",
          "text": [
            "Enter the size of list 1: 4\n",
            "Enter list 1:\n",
            "2\n",
            "4\n",
            "6\n",
            "8\n",
            "Enter the size of list 2: 3\n",
            "Enter list 2:\n",
            "6\n",
            "6\n",
            "8\n",
            "List 1: [2, 4, 6, 8]\n",
            "List 2: [6, 6, 8]\n",
            "Lists are of different length\n",
            "Sum of lists are the same\n",
            "Common elements: [6, 8]\n"
          ]
        }
      ]
    },
    {
      "cell_type": "code",
      "source": [
        "# 8. Get a string from an input string where all occurrences of first character replaced with ‘$’, except first character. [eg: onion -> oni$n]\n",
        "\n",
        "str = input('Enter a string: ')\n",
        "a = str[0]+str[1:].replace(str[0],'$')\n",
        "print('Replaced string:', a)\n"
      ],
      "metadata": {
        "id": "15-sBf_OlwU4",
        "colab": {
          "base_uri": "https://localhost:8080/"
        },
        "outputId": "10a59885-18bc-4d5f-cd07-45917c6ef978"
      },
      "execution_count": null,
      "outputs": [
        {
          "output_type": "stream",
          "name": "stdout",
          "text": [
            "Enter a string: characters\n",
            "Replaced string: chara$ters\n"
          ]
        }
      ]
    },
    {
      "cell_type": "code",
      "source": [
        "# 9. Create a string from given string where first and last characters exchanged. [eg: python - > nythop]\n",
        "\n",
        "text=input(\"Enter a word : \")\n",
        "text[-1]+text[1:-1]+text[0]\n"
      ],
      "metadata": {
        "id": "McTAhWqRl5TQ",
        "colab": {
          "base_uri": "https://localhost:8080/",
          "height": 53
        },
        "outputId": "07136f2a-556f-428e-9f10-c2862b56a490"
      },
      "execution_count": null,
      "outputs": [
        {
          "name": "stdout",
          "output_type": "stream",
          "text": [
            "Enter a word : Wednesday\n"
          ]
        },
        {
          "output_type": "execute_result",
          "data": {
            "text/plain": [
              "'yednesdaW'"
            ],
            "application/vnd.google.colaboratory.intrinsic+json": {
              "type": "string"
            }
          },
          "metadata": {},
          "execution_count": 29
        }
      ]
    },
    {
      "cell_type": "code",
      "source": [
        "# 10. Accept the radius from user and find area of circle.\n",
        "\n",
        "pi=3.14\n",
        "radius=int(input(\"Enter radius of the circle:\"))\n",
        "area=pi*radius*radius\n",
        "print(\"The area = \",area)"
      ],
      "metadata": {
        "colab": {
          "base_uri": "https://localhost:8080/"
        },
        "id": "8H3tobKnmBb1",
        "outputId": "d9a94491-b07e-4c9c-ae94-ae60c5432a27"
      },
      "execution_count": null,
      "outputs": [
        {
          "output_type": "stream",
          "name": "stdout",
          "text": [
            "Enter radius of the circle:10\n",
            "The area =  314.0\n"
          ]
        }
      ]
    },
    {
      "cell_type": "code",
      "source": [
        "# 11. Find biggest of 3 numbers entered.\n",
        "\n",
        "a=int(input(\"Enter first number :\"))\n",
        "b=int(input(\"Enter second number :\"))\n",
        "c=int(input(\"Enter third number :\"))\n",
        "if(a>b and a>c):\n",
        "  print(a,\" is the largest\")\n",
        "elif(b>c):\n",
        "  print(b,\" is the largest\")\n",
        "else:\n",
        "  print(c,\" is the largest\")"
      ],
      "metadata": {
        "colab": {
          "base_uri": "https://localhost:8080/"
        },
        "id": "fGvB_Xsql5px",
        "outputId": "7986e3a0-3243-4a05-ad9b-168cb042f356"
      },
      "execution_count": null,
      "outputs": [
        {
          "output_type": "stream",
          "name": "stdout",
          "text": [
            "Enter first number :5\n",
            "Enter second number :10\n",
            "Enter third number :15\n",
            "15  is the largest\n"
          ]
        }
      ]
    },
    {
      "cell_type": "code",
      "source": [
        "# 12. Accept a file name from user and print extension of that.\n",
        "\n",
        "file_name = input(\"Enter a file name: \")\n",
        "text = file_name.split(\".\")\n",
        "print(\"Extension:\", text[-1])\n"
      ],
      "metadata": {
        "id": "InXJClGmmXr2",
        "colab": {
          "base_uri": "https://localhost:8080/"
        },
        "outputId": "f7db39ad-8f31-429e-cd1d-82fd33d7ed70"
      },
      "execution_count": null,
      "outputs": [
        {
          "output_type": "stream",
          "name": "stdout",
          "text": [
            "Enter a file name: art.html\n",
            "Extension: html\n"
          ]
        }
      ]
    },
    {
      "cell_type": "code",
      "source": [
        "# 13. Create a list of colors from comma-separated color names entered by user. Display first and last colors.\n",
        "\n",
        "color_input = input(\"Enter a list of colors separated by commas: \")\n",
        "colors = color_input.split(',')\n",
        "colors = [color.strip() for color in colors]\n",
        "\n",
        "if len(colors) >= 2:\n",
        "    print(f\"First color: {colors[0]}\")\n",
        "    print(f\"Last color: {colors[-1]}\")\n",
        "else:\n",
        "    print(\"Please enter at least two colors separated by commas.\")\n"
      ],
      "metadata": {
        "id": "15KyxNa729Nr",
        "colab": {
          "base_uri": "https://localhost:8080/"
        },
        "outputId": "54f5f8b6-6dbb-4a99-e39e-fea9af262855"
      },
      "execution_count": null,
      "outputs": [
        {
          "output_type": "stream",
          "name": "stdout",
          "text": [
            "Enter a list of colors separated by commas: black, white, blue, purple, green, yellow\n",
            "First color: black\n",
            "Last color: yellow\n"
          ]
        }
      ]
    },
    {
      "cell_type": "code",
      "source": [
        "# 14. Accept an integer n and compute n+nn+nnn.\n",
        "\n",
        "n=int(input(\"Enter a number : \"))\n",
        "n1=n\n",
        "n2=n*n\n",
        "n3=n*n*n\n",
        "print(n1+n2+n3)"
      ],
      "metadata": {
        "id": "Z_JkqZJ23Bch",
        "colab": {
          "base_uri": "https://localhost:8080/"
        },
        "outputId": "71aa6e83-69c1-48dd-a0fd-865035a99ce1"
      },
      "execution_count": null,
      "outputs": [
        {
          "output_type": "stream",
          "name": "stdout",
          "text": [
            "Enter a number : 5\n",
            "155\n"
          ]
        }
      ]
    },
    {
      "cell_type": "code",
      "source": [
        "# 15. Print out all colors from color-list1 not contained in color-list2.\n",
        "\n",
        "c1 = [\"Red\", \"Orange\", \"Yellow\", \"Green\", \"Blue\"]\n",
        "c2 = [\"Purple\", \"Yellow\", \"Pink\", \"Blue\", \"Black\"]\n",
        "\n",
        "missing_colors = [i for i in c2 if i not in c1]\n",
        "\n",
        "print(\"Colors from color-list 1 not in color-list 2:\", missing_colors)"
      ],
      "metadata": {
        "id": "yF41-HjD3F7E",
        "colab": {
          "base_uri": "https://localhost:8080/"
        },
        "outputId": "9aadede2-68b9-4994-e011-a9d005f4892c"
      },
      "execution_count": null,
      "outputs": [
        {
          "output_type": "stream",
          "name": "stdout",
          "text": [
            "Colors from color-list 1 not in color-list 2: ['Purple', 'Pink', 'Black']\n"
          ]
        }
      ]
    },
    {
      "cell_type": "code",
      "source": [
        "# 16. Create a single string separated with space from two strings by swapping the character at position 1.\n",
        "\n",
        "s1=input(\"Enter string 1 : \")\n",
        "s2=input(\"Enter string 2 : \")\n",
        "s3=s2[0]+s1[1:]+\" \"+s1[0]+s2[1:]\n",
        "print(\"Swapped string :\",s3)\n"
      ],
      "metadata": {
        "id": "6reOrEVg3MqU",
        "colab": {
          "base_uri": "https://localhost:8080/"
        },
        "outputId": "eed29fb2-0a1b-4cb7-e76e-2593073dc43b"
      },
      "execution_count": null,
      "outputs": [
        {
          "output_type": "stream",
          "name": "stdout",
          "text": [
            "Enter string 1 : Happy\n",
            "Enter string 2 : Birthday\n",
            "Swapped string : Bappy Hirthday\n"
          ]
        }
      ]
    },
    {
      "cell_type": "code",
      "source": [
        "# 17. Sort dictionary in ascending and descending order.\n",
        "\n",
        "d = {'Allen': 1, 'Eden': 15, 'David': 12, 'Kiran': 33}\n",
        "\n",
        "ascending_order = dict(sorted(d.items()))\n",
        "descending_order = dict(sorted(d.items(), reverse=True))\n",
        "\n",
        "print(\"Ascending order:\", ascending_order)\n",
        "print(\"Descending order:\", descending_order)\n"
      ],
      "metadata": {
        "id": "TN9rUYvY3UKS",
        "colab": {
          "base_uri": "https://localhost:8080/"
        },
        "outputId": "f221f27b-93f4-4fdc-e857-485376997925"
      },
      "execution_count": null,
      "outputs": [
        {
          "output_type": "stream",
          "name": "stdout",
          "text": [
            "Ascending order: {'Allen': 1, 'David': 12, 'Eden': 15, 'Kiran': 33}\n",
            "Descending order: {'Kiran': 33, 'Eden': 15, 'David': 12, 'Allen': 1}\n"
          ]
        }
      ]
    },
    {
      "cell_type": "code",
      "source": [
        "# 18. Merge two dictionaries.\n",
        "\n",
        "d1 = {'Alan': 10, 'Nevin': 40, 'Deepa': 20}\n",
        "d2 = {'Rohit': 50, 'Sherin': 60, 'Joshua': 30}\n",
        "\n",
        "merged_dict = {**d1, **d2}\n",
        "\n",
        "print(\"Merged dictionaries:\", merged_dict)"
      ],
      "metadata": {
        "id": "O0yZgZow3kS_",
        "colab": {
          "base_uri": "https://localhost:8080/"
        },
        "outputId": "41a8fc63-113a-4c96-b9c0-3645106c2688"
      },
      "execution_count": null,
      "outputs": [
        {
          "output_type": "stream",
          "name": "stdout",
          "text": [
            "Merged dictionaries: {'Alan': 10, 'Nevin': 40, 'Deepa': 20, 'Rohit': 50, 'Sherin': 60, 'Joshua': 30}\n"
          ]
        }
      ]
    },
    {
      "cell_type": "code",
      "source": [
        "# 19. Find gcd of 2 numbers.\n",
        "\n",
        "import math\n",
        "x=int(input(\"Enter the first number : \"))\n",
        "y=int(input(\"Enter the second number : \"))\n",
        "print(\"GCD : \",math.gcd(x,y))"
      ],
      "metadata": {
        "id": "cpl-pRii3o9w",
        "colab": {
          "base_uri": "https://localhost:8080/"
        },
        "outputId": "e290b303-3c05-47c3-f52b-ef5b30bf50f3"
      },
      "execution_count": null,
      "outputs": [
        {
          "output_type": "stream",
          "name": "stdout",
          "text": [
            "Enter the first number : 18\n",
            "Enter the second number : 21\n",
            "GCD :  3\n"
          ]
        }
      ]
    },
    {
      "cell_type": "code",
      "source": [
        "# 20. From a list of integers, create a list removing even numbers.\n",
        "\n",
        "list = []\n",
        "n = int(input(\"Enter the size of the list: \"))\n",
        "print(\"Enter elements:\")\n",
        "for _ in range(n):\n",
        "    num = int(input())\n",
        "    list.append(num)\n",
        "\n",
        "new_list = [x for x in list if x % 2 != 0]\n",
        "\n",
        "print(\"List after removal of even numbers:\", new_list)"
      ],
      "metadata": {
        "id": "rT87vnS33s7c",
        "colab": {
          "base_uri": "https://localhost:8080/"
        },
        "outputId": "39b863ec-352e-4913-b715-577439220438"
      },
      "execution_count": null,
      "outputs": [
        {
          "output_type": "stream",
          "name": "stdout",
          "text": [
            "Enter the size of the list: 6\n",
            "Enter elements:\n",
            "1\n",
            "2\n",
            "3\n",
            "4\n",
            "5\n",
            "6\n",
            "List after removal of even numbers: [1, 3, 5]\n"
          ]
        }
      ]
    }
  ]
}