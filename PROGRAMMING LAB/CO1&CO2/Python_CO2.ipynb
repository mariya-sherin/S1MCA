{
  "nbformat": 4,
  "nbformat_minor": 0,
  "metadata": {
    "colab": {
      "provenance": []
    },
    "kernelspec": {
      "name": "python3",
      "display_name": "Python 3"
    },
    "language_info": {
      "name": "python"
    }
  },
  "cells": [
    {
      "cell_type": "markdown",
      "source": [
        "**CO2**"
      ],
      "metadata": {
        "id": "560LhEbLmwi_"
      }
    },
    {
      "cell_type": "code",
      "source": [
        "# 1. Program to find the factorial of a number.\n",
        "\n",
        "n=int(input(\"Enter the number : \"))\n",
        "fact=1\n",
        "for i in range(1,n+1):\n",
        "  fact=fact*i\n",
        "print(\"The factorial of \",n,\" = \",fact)"
      ],
      "metadata": {
        "id": "12cP2I0tBGXV",
        "colab": {
          "base_uri": "https://localhost:8080/"
        },
        "outputId": "adcf33f6-aadb-49f7-c1b3-932ccec84694"
      },
      "execution_count": null,
      "outputs": [
        {
          "output_type": "stream",
          "name": "stdout",
          "text": [
            "Enter the number : 5\n",
            "The factorial of  5  =  120\n"
          ]
        }
      ]
    },
    {
      "cell_type": "code",
      "source": [
        "# 2. Generate Fibonacci series of N terms\n",
        "\n",
        "a = 0\n",
        "b = 1\n",
        "c = 0\n",
        "fibonacci_series = [a, b]\n",
        "\n",
        "limit = int(input(\"Enter the limit for the Fibonacci series: \"))\n",
        "\n",
        "while c < limit:\n",
        "    c = a + b\n",
        "    a = b\n",
        "    b = c\n",
        "    if c <= limit:\n",
        "        fibonacci_series.append(c)\n",
        "\n",
        "print(\"The Fibonacci series:\", fibonacci_series)"
      ],
      "metadata": {
        "id": "UAjl2lmjBMhg",
        "colab": {
          "base_uri": "https://localhost:8080/"
        },
        "outputId": "7c408c4e-b0f2-4870-b918-45e5029ec52c"
      },
      "execution_count": null,
      "outputs": [
        {
          "output_type": "stream",
          "name": "stdout",
          "text": [
            "Enter the limit for the Fibonacci series: 10\n",
            "The Fibonacci series: [0, 1, 1, 2, 3, 5, 8]\n"
          ]
        }
      ]
    },
    {
      "cell_type": "code",
      "source": [
        "# 3. Find the sum of all items in a list\n",
        "\n",
        "list=[]\n",
        "s=0\n",
        "n=int(input(\"Enter size of list: \"))\n",
        "print(\"Enter the list items : \")\n",
        "for i in range(0,n):\n",
        " a=int(input())\n",
        " list.append(a)\n",
        " s=s+a\n",
        "print(\"Sum of all items in list:\",s)"
      ],
      "metadata": {
        "colab": {
          "base_uri": "https://localhost:8080/"
        },
        "id": "ggfnPY1PSp8J",
        "outputId": "4fa9bef1-eb19-439c-a4c0-d1d6bf7c3f48"
      },
      "execution_count": null,
      "outputs": [
        {
          "output_type": "stream",
          "name": "stdout",
          "text": [
            "Enter size of list: 5\n",
            "Enter the list items : \n",
            "3\n",
            "1\n",
            "2\n",
            "10\n",
            "4\n",
            "Sum of all items in list: 20\n"
          ]
        }
      ]
    },
    {
      "cell_type": "code",
      "source": [
        "# 4. Generate a list of four digit numbers in a given range with all their digits even and the number is a perfect square.\n",
        "\n",
        "result = []\n",
        "for i in range(1000, 9999):\n",
        "    if all(int(x) % 2 == 0 for x in str(i)):\n",
        "        if int(i ** 0.5) ** 2 == i:\n",
        "            result.append(i)\n",
        "\n",
        "print(\"List of numbers:\", result)"
      ],
      "metadata": {
        "id": "inrvula8S3ub",
        "colab": {
          "base_uri": "https://localhost:8080/"
        },
        "outputId": "3c698516-28f0-4913-ab9e-7f6d3dd0e1d8"
      },
      "execution_count": null,
      "outputs": [
        {
          "output_type": "stream",
          "name": "stdout",
          "text": [
            "List of numbers: [4624, 6084, 6400, 8464]\n"
          ]
        }
      ]
    },
    {
      "cell_type": "code",
      "source": [
        "# 5. Display the given pyramid with step number accepted from user.\n",
        "# Eg: N=4\n",
        "# 1\n",
        "# 2 4\n",
        "# 3 6 9\n",
        "# 4 8 12 16\n",
        "\n",
        "n = int(input(\"Enter number of rows: \"))\n",
        "for i in range(1,n+1):\n",
        " for j in range(1,i+1):\n",
        "  print(j*i,end=\" \")\n",
        " print()"
      ],
      "metadata": {
        "id": "1hnRRuI0BVuM",
        "colab": {
          "base_uri": "https://localhost:8080/"
        },
        "outputId": "5d92699d-54c1-4c5b-aa64-a3c46b260bbc"
      },
      "execution_count": null,
      "outputs": [
        {
          "output_type": "stream",
          "name": "stdout",
          "text": [
            "Enter number of rows: 7\n",
            "1 \n",
            "2 4 \n",
            "3 6 9 \n",
            "4 8 12 16 \n",
            "5 10 15 20 25 \n",
            "6 12 18 24 30 36 \n",
            "7 14 21 28 35 42 49 \n"
          ]
        }
      ]
    },
    {
      "cell_type": "code",
      "source": [
        "# 6. Count the number of characters (character frequency) in a string.\n",
        "\n",
        "n = input(\"Enter the String: \")\n",
        "s = {}\n",
        "\n",
        "for i in n:\n",
        "    if i in s:\n",
        "        s[i] += 1\n",
        "    else:\n",
        "        s[i] = 1\n",
        "\n",
        "print(s)"
      ],
      "metadata": {
        "colab": {
          "base_uri": "https://localhost:8080/"
        },
        "id": "6-K7qAtvTNop",
        "outputId": "00e16be5-1bb6-42d1-abef-433f46e266d9"
      },
      "execution_count": null,
      "outputs": [
        {
          "output_type": "stream",
          "name": "stdout",
          "text": [
            "Enter the String: Hello World\n",
            "{'H': 1, 'e': 1, 'l': 3, 'o': 2, ' ': 1, 'W': 1, 'r': 1, 'd': 1}\n"
          ]
        }
      ]
    },
    {
      "cell_type": "code",
      "source": [
        "# 7. Add ‘ing’ at the end of a given string. If it already ends with ‘ing’, then add ‘ly’\n",
        "\n",
        "s = input(\"Enter the String: \")\n",
        "if s.endswith (\"ing\"):\n",
        "  r=s+\"ly\"\n",
        "else:\n",
        "  r=s+\"ing\"\n",
        "print(r)"
      ],
      "metadata": {
        "colab": {
          "base_uri": "https://localhost:8080/"
        },
        "id": "s0JdwOYiTT34",
        "outputId": "7a85f6fb-6a06-42c5-9d8d-f9e73e9c9ee2"
      },
      "execution_count": null,
      "outputs": [
        {
          "output_type": "stream",
          "name": "stdout",
          "text": [
            "Enter the String: play\n",
            "playing\n"
          ]
        }
      ]
    },
    {
      "cell_type": "code",
      "source": [
        "# 8. Accept a list of words and return length of longest word.\n",
        "\n",
        "n = int(input(\"Enter the size of the list: \"))\n",
        "a = [input(\"Enter word: \") for _ in range(n)]\n",
        "\n",
        "temp = max(a, key=len)\n",
        "\n",
        "print(\"Word with maximum length is:\", temp)\n",
        "print(\"Length :\", len(temp))\n",
        "\n"
      ],
      "metadata": {
        "id": "SdBjlQhXTZJ3",
        "colab": {
          "base_uri": "https://localhost:8080/"
        },
        "outputId": "7b1486de-ac84-4577-ce0c-b59afef93a9b"
      },
      "execution_count": null,
      "outputs": [
        {
          "output_type": "stream",
          "name": "stdout",
          "text": [
            "Enter the size of the list: 5\n",
            "Enter word: books\n",
            "Enter word: laptop\n",
            "Enter word: sky\n",
            "Enter word: flower\n",
            "Enter word: internet\n",
            "Word with maximum length is: internet\n",
            "Length : 8\n"
          ]
        }
      ]
    },
    {
      "cell_type": "code",
      "source": [
        "# 9. Generate all factors of a number.\n",
        "\n",
        "def facts(a):\n",
        "    print(\"Factors of\", a, \":\")\n",
        "    for i in range(1, a + 1):\n",
        "        if a % i == 0:\n",
        "            print(i)\n",
        "\n",
        "n = int(input(\"Enter a number: \"))\n",
        "facts(n)\n"
      ],
      "metadata": {
        "id": "JF43hnoRBzzS",
        "colab": {
          "base_uri": "https://localhost:8080/"
        },
        "outputId": "3e47c482-b4fd-4af6-b517-7958a4c02880"
      },
      "execution_count": null,
      "outputs": [
        {
          "output_type": "stream",
          "name": "stdout",
          "text": [
            "Enter a number: 20\n",
            "Factors of 20 :\n",
            "1\n",
            "2\n",
            "4\n",
            "5\n",
            "10\n",
            "20\n"
          ]
        }
      ]
    },
    {
      "cell_type": "code",
      "source": [
        "# 10. Construct following pattern using nested loop\n",
        "\n",
        "n = int(input(\"Enter the number of rows: \"))\n",
        "\n",
        "for i in range(1, n + 1):\n",
        "    print('*' * i)\n",
        "\n",
        "for i in range(n - 1, 0, -1):\n",
        "    print('*' * i)\n"
      ],
      "metadata": {
        "id": "qATf0ZoGBh8I",
        "colab": {
          "base_uri": "https://localhost:8080/"
        },
        "outputId": "f07b88a4-19a7-4a88-8b3c-087d2271e82d"
      },
      "execution_count": null,
      "outputs": [
        {
          "output_type": "stream",
          "name": "stdout",
          "text": [
            "Enter the number of rows: 4\n",
            "*\n",
            "**\n",
            "***\n",
            "****\n",
            "***\n",
            "**\n",
            "*\n"
          ]
        }
      ]
    },
    {
      "cell_type": "code",
      "source": [
        "# 11. Write lambda functions to find area of square, rectangle and triangle.\n",
        "\n",
        "import math\n",
        "\n",
        "print(\"  SQUARE  \")\n",
        "a = int(input(\"Enter the side of square: \"))\n",
        "a_area = lambda a: a * a\n",
        "print(\"Area of square = \", a_area(a))\n",
        "\n",
        "print(\"  RECTANGLE  \")\n",
        "length = int(input(\"Enter the length of rectangle: \"))\n",
        "breadth = int(input(\"Enter the breadth of rectangle: \"))\n",
        "r_area = lambda length, breadth: length * breadth\n",
        "print(\"Area of rectangle = \", r_area(length, breadth))\n",
        "\n",
        "print(\"  TRIANGLE  \")\n",
        "b=int(input(\"Enter the base of triangle : \"))\n",
        "h=int(input(\"Enter the height of triangle : \"))\n",
        "t_area = lambda b,h: 1/2*b*h\n",
        "print(\"Area of triangle = \",t_area(b,h))\n"
      ],
      "metadata": {
        "id": "4NP-jPrOXPWO",
        "colab": {
          "base_uri": "https://localhost:8080/"
        },
        "outputId": "215315c9-2c7c-4bbf-c304-1d5fd5080191"
      },
      "execution_count": null,
      "outputs": [
        {
          "output_type": "stream",
          "name": "stdout",
          "text": [
            "  SQUARE  \n",
            "Enter the side of square: 4\n",
            "Area of square =  16\n",
            "  RECTANGLE  \n",
            "Enter the length of rectangle: 2\n",
            "Enter the breadth of rectangle: 10\n",
            "Area of rectangle =  20\n",
            "  TRIANGLE  \n",
            "Enter the base of triangle : 3\n",
            "Enter the height of triangle : 4\n",
            "Area of triangle =  6.0\n"
          ]
        }
      ]
    }
  ]
}